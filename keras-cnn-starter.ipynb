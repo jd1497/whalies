{
 "cells": [
  {
   "cell_type": "markdown",
   "metadata": {
    "_uuid": "da035fe58e548e8b1b7e8e89725b9e6bc745aa7b"
   },
   "source": [
    "# Humpback Whale Identification - CNN with Keras\n",
    "This kernel is based on [Anezka Kolaceke](https://www.kaggle.com/anezka)'s awesome work: [CNN with Keras for Humpback Whale ID](https://www.kaggle.com/anezka/cnn-with-keras-for-humpback-whale-id)"
   ]
  },
  {
   "cell_type": "code",
   "execution_count": 1,
   "metadata": {
    "_uuid": "0d9c73ad23e6c2eae3028255ee00c3254fe66401"
   },
   "outputs": [
    {
     "name": "stderr",
     "output_type": "stream",
     "text": [
      "Using TensorFlow backend.\n"
     ]
    }
   ],
   "source": [
    "import numpy as np \n",
    "import pandas as pd \n",
    "import os\n",
    "import matplotlib.pyplot as plt\n",
    "import matplotlib.image as mplimg\n",
    "from matplotlib.pyplot import imshow\n",
    "\n",
    "from sklearn.preprocessing import LabelEncoder\n",
    "from sklearn.preprocessing import OneHotEncoder\n",
    "\n",
    "from keras import layers\n",
    "from keras.preprocessing import image\n",
    "from keras.applications.imagenet_utils import preprocess_input\n",
    "from keras.layers import Input, Dense, Activation, BatchNormalization, Flatten, Conv2D\n",
    "from keras.layers import AveragePooling2D, MaxPooling2D, Dropout\n",
    "from keras.models import Model\n",
    "\n",
    "import keras.backend as K\n",
    "from keras.models import Sequential\n",
    "\n",
    "import warnings\n",
    "warnings.simplefilter(\"ignore\", category=DeprecationWarning)"
   ]
  },
  {
   "cell_type": "code",
   "execution_count": 2,
   "metadata": {
    "_uuid": "2cea35de3530cc898be5b85063b84e875401d092"
   },
   "outputs": [
    {
     "data": {
      "text/plain": [
       "['train.csv', 'test', 'train', 'sample_submission.csv']"
      ]
     },
     "execution_count": 2,
     "metadata": {},
     "output_type": "execute_result"
    }
   ],
   "source": [
    "os.listdir(\"../input/\")"
   ]
  },
  {
   "cell_type": "code",
   "execution_count": 3,
   "metadata": {
    "_uuid": "46a8839e13a14eb8d16ea6823de9927ea63d5001"
   },
   "outputs": [
    {
     "data": {
      "text/html": [
       "<div>\n",
       "<style scoped>\n",
       "    .dataframe tbody tr th:only-of-type {\n",
       "        vertical-align: middle;\n",
       "    }\n",
       "\n",
       "    .dataframe tbody tr th {\n",
       "        vertical-align: top;\n",
       "    }\n",
       "\n",
       "    .dataframe thead th {\n",
       "        text-align: right;\n",
       "    }\n",
       "</style>\n",
       "<table border=\"1\" class=\"dataframe\">\n",
       "  <thead>\n",
       "    <tr style=\"text-align: right;\">\n",
       "      <th></th>\n",
       "      <th>Image</th>\n",
       "      <th>Id</th>\n",
       "    </tr>\n",
       "  </thead>\n",
       "  <tbody>\n",
       "    <tr>\n",
       "      <th>0</th>\n",
       "      <td>0000e88ab.jpg</td>\n",
       "      <td>w_f48451c</td>\n",
       "    </tr>\n",
       "    <tr>\n",
       "      <th>1</th>\n",
       "      <td>0001f9222.jpg</td>\n",
       "      <td>w_c3d896a</td>\n",
       "    </tr>\n",
       "    <tr>\n",
       "      <th>2</th>\n",
       "      <td>00029d126.jpg</td>\n",
       "      <td>w_20df2c5</td>\n",
       "    </tr>\n",
       "    <tr>\n",
       "      <th>3</th>\n",
       "      <td>00050a15a.jpg</td>\n",
       "      <td>new_whale</td>\n",
       "    </tr>\n",
       "    <tr>\n",
       "      <th>4</th>\n",
       "      <td>0005c1ef8.jpg</td>\n",
       "      <td>new_whale</td>\n",
       "    </tr>\n",
       "  </tbody>\n",
       "</table>\n",
       "</div>"
      ],
      "text/plain": [
       "           Image         Id\n",
       "0  0000e88ab.jpg  w_f48451c\n",
       "1  0001f9222.jpg  w_c3d896a\n",
       "2  00029d126.jpg  w_20df2c5\n",
       "3  00050a15a.jpg  new_whale\n",
       "4  0005c1ef8.jpg  new_whale"
      ]
     },
     "execution_count": 3,
     "metadata": {},
     "output_type": "execute_result"
    }
   ],
   "source": [
    "train_df = pd.read_csv(\"../input/train.csv\")\n",
    "train_df.head()"
   ]
  },
  {
   "cell_type": "code",
   "execution_count": 4,
   "metadata": {
    "_uuid": "f46b24dbba74f22833cac6140e60348b15a8e047"
   },
   "outputs": [],
   "source": [
    "def prepareImages(data, m, dataset):\n",
    "    print(\"Preparing images\")\n",
    "    X_train = np.zeros((m, 100, 100, 3))\n",
    "    count = 0\n",
    "    \n",
    "    for fig in data['Image']:\n",
    "        #load images into images of size 100x100x3\n",
    "        img = image.load_img(\"../input/\"+dataset+\"/\"+fig, target_size=(100, 100, 3))\n",
    "        x = image.img_to_array(img)\n",
    "        x = preprocess_input(x)\n",
    "\n",
    "        X_train[count] = x\n",
    "        if (count%500 == 0):\n",
    "            print(\"Processing image: \", count+1, \", \", fig)\n",
    "        count += 1\n",
    "    \n",
    "    return X_train"
   ]
  },
  {
   "cell_type": "code",
   "execution_count": 5,
   "metadata": {
    "_uuid": "6587a101b58af064af0f9c60a1070c6c8f52d45f"
   },
   "outputs": [],
   "source": [
    "def prepare_labels(y):\n",
    "    values = np.array(y)\n",
    "    label_encoder = LabelEncoder()\n",
    "    integer_encoded = label_encoder.fit_transform(values)\n",
    "    # print(integer_encoded)\n",
    "\n",
    "    onehot_encoder = OneHotEncoder(sparse=False)\n",
    "    integer_encoded = integer_encoded.reshape(len(integer_encoded), 1)\n",
    "    onehot_encoded = onehot_encoder.fit_transform(integer_encoded)\n",
    "    # print(onehot_encoded)\n",
    "\n",
    "    y = onehot_encoded\n",
    "    # print(y.shape)\n",
    "    return y, label_encoder"
   ]
  },
  {
   "cell_type": "code",
   "execution_count": 6,
   "metadata": {
    "_uuid": "4afe4128a0cd6859848c8a80686208082d647c39"
   },
   "outputs": [
    {
     "name": "stdout",
     "output_type": "stream",
     "text": [
      "Preparing images\n",
      "Processing image:  1 ,  0000e88ab.jpg\n",
      "Processing image:  501 ,  04c72257b.jpg\n",
      "Processing image:  1001 ,  09cacb84d.jpg\n",
      "Processing image:  1501 ,  0ef961892.jpg\n",
      "Processing image:  2001 ,  141b56a1a.jpg\n",
      "Processing image:  2501 ,  199a417aa.jpg\n",
      "Processing image:  3001 ,  1ec170983.jpg\n",
      "Processing image:  3501 ,  23f084b93.jpg\n",
      "Processing image:  4001 ,  29163ad0b.jpg\n",
      "Processing image:  4501 ,  2e0fab120.jpg\n",
      "Processing image:  5001 ,  3347515d9.jpg\n",
      "Processing image:  5501 ,  3842d71dc.jpg\n",
      "Processing image:  6001 ,  3d7f4c7d5.jpg\n",
      "Processing image:  6501 ,  425f763ca.jpg\n",
      "Processing image:  7001 ,  4714400cd.jpg\n",
      "Processing image:  7501 ,  4c082fbdf.jpg\n",
      "Processing image:  8001 ,  50c683e23.jpg\n",
      "Processing image:  8501 ,  560d986ad.jpg\n",
      "Processing image:  9001 ,  5b68c83ed.jpg\n",
      "Processing image:  9501 ,  60410f111.jpg\n",
      "Processing image:  10001 ,  654951f81.jpg\n",
      "Processing image:  10501 ,  6a572256c.jpg\n",
      "Processing image:  11001 ,  6f96f55b6.jpg\n",
      "Processing image:  11501 ,  74da2b511.jpg\n",
      "Processing image:  12001 ,  7989d9a27.jpg\n",
      "Processing image:  12501 ,  7e5aa2d8a.jpg\n",
      "Processing image:  13001 ,  832382cfb.jpg\n",
      "Processing image:  13501 ,  87f6c0a15.jpg\n",
      "Processing image:  14001 ,  8cfc22e5d.jpg\n",
      "Processing image:  14501 ,  91dcfedcd.jpg\n",
      "Processing image:  15001 ,  97079398e.jpg\n",
      "Processing image:  15501 ,  9c2ad64a9.jpg\n",
      "Processing image:  16001 ,  a11956dff.jpg\n",
      "Processing image:  16501 ,  a5f9ffe86.jpg\n",
      "Processing image:  17001 ,  aaf1a967b.jpg\n",
      "Processing image:  17501 ,  af9a1ffc6.jpg\n",
      "Processing image:  18001 ,  b4e02531d.jpg\n",
      "Processing image:  18501 ,  ba2355ca6.jpg\n",
      "Processing image:  19001 ,  bf60e7fed.jpg\n",
      "Processing image:  19501 ,  c49f39ce3.jpg\n",
      "Processing image:  20001 ,  c960111d0.jpg\n",
      "Processing image:  20501 ,  ce7984d8a.jpg\n",
      "Processing image:  21001 ,  d38efaec9.jpg\n",
      "Processing image:  21501 ,  d831d28ee.jpg\n",
      "Processing image:  22001 ,  dd3ca2387.jpg\n",
      "Processing image:  22501 ,  e288d66cf.jpg\n",
      "Processing image:  23001 ,  e7cc793db.jpg\n",
      "Processing image:  23501 ,  ec8c7229d.jpg\n",
      "Processing image:  24001 ,  f1b850552.jpg\n",
      "Processing image:  24501 ,  f6af8a4b8.jpg\n",
      "Processing image:  25001 ,  fc09f2302.jpg\n"
     ]
    }
   ],
   "source": [
    "X = prepareImages(train_df, train_df.shape[0], \"train\")\n",
    "X /= 255\n",
    "#preparing for images! Using code above"
   ]
  },
  {
   "cell_type": "code",
   "execution_count": 7,
   "metadata": {},
   "outputs": [
    {
     "name": "stdout",
     "output_type": "stream",
     "text": [
      "(100, 100, 3)\n"
     ]
    }
   ],
   "source": [
    "print(X[-1].shape)"
   ]
  },
  {
   "cell_type": "code",
   "execution_count": 8,
   "metadata": {
    "_uuid": "675924f8863aef27cf90dc668e0a68cd609dfc1c"
   },
   "outputs": [],
   "source": [
    "y, label_encoder = prepare_labels(train_df['Id'])"
   ]
  },
  {
   "cell_type": "code",
   "execution_count": 9,
   "metadata": {
    "_uuid": "14d243b19023e830b636bea16679e13bc40deae6"
   },
   "outputs": [
    {
     "data": {
      "text/plain": [
       "(25361, 5005)"
      ]
     },
     "execution_count": 9,
     "metadata": {},
     "output_type": "execute_result"
    }
   ],
   "source": [
    "y.shape"
   ]
  },
  {
   "cell_type": "code",
   "execution_count": 10,
   "metadata": {
    "_uuid": "e7af799d186a1b97b6aa325d7d576a1fb55a6c5d"
   },
   "outputs": [
    {
     "name": "stdout",
     "output_type": "stream",
     "text": [
      "_________________________________________________________________\n",
      "Layer (type)                 Output Shape              Param #   \n",
      "=================================================================\n",
      "conv0 (Conv2D)               (None, 94, 94, 32)        4736      \n",
      "_________________________________________________________________\n",
      "bn0 (BatchNormalization)     (None, 94, 94, 32)        128       \n",
      "_________________________________________________________________\n",
      "activation_1 (Activation)    (None, 94, 94, 32)        0         \n",
      "_________________________________________________________________\n",
      "max_pool (MaxPooling2D)      (None, 47, 47, 32)        0         \n",
      "_________________________________________________________________\n",
      "conv1 (Conv2D)               (None, 45, 45, 64)        18496     \n",
      "_________________________________________________________________\n",
      "activation_2 (Activation)    (None, 45, 45, 64)        0         \n",
      "_________________________________________________________________\n",
      "avg_pool (AveragePooling2D)  (None, 15, 15, 64)        0         \n",
      "_________________________________________________________________\n",
      "flatten_1 (Flatten)          (None, 14400)             0         \n",
      "_________________________________________________________________\n",
      "rl (Dense)                   (None, 500)               7200500   \n",
      "_________________________________________________________________\n",
      "dropout_1 (Dropout)          (None, 500)               0         \n",
      "_________________________________________________________________\n",
      "sm (Dense)                   (None, 5005)              2507505   \n",
      "=================================================================\n",
      "Total params: 9,731,365\n",
      "Trainable params: 9,731,301\n",
      "Non-trainable params: 64\n",
      "_________________________________________________________________\n"
     ]
    }
   ],
   "source": [
    "model = Sequential()\n",
    "\n",
    "model.add(Conv2D(32, (7, 7), strides = (1, 1), name = 'conv0', input_shape = (100, 100, 3)))\n",
    "\n",
    "model.add(BatchNormalization(axis = 3, name = 'bn0'))\n",
    "model.add(Activation('relu'))\n",
    "\n",
    "model.add(MaxPooling2D((2, 2), name='max_pool'))\n",
    "model.add(Conv2D(64, (3, 3), strides = (1,1), name=\"conv1\"))\n",
    "model.add(Activation('relu'))\n",
    "model.add(AveragePooling2D((3, 3), name='avg_pool'))\n",
    "\n",
    "model.add(Flatten())\n",
    "model.add(Dense(500, activation=\"relu\", name='rl'))\n",
    "model.add(Dropout(0.8))\n",
    "model.add(Dense(y.shape[1], activation='softmax', name='sm'))\n",
    "\n",
    "model.compile(loss='categorical_crossentropy', optimizer=\"adam\", metrics=['accuracy'])\n",
    "model.summary()"
   ]
  },
  {
   "cell_type": "code",
   "execution_count": 11,
   "metadata": {
    "_uuid": "169f45e150c3a584e0f655a8eda523e0675da63a"
   },
   "outputs": [
    {
     "name": "stdout",
     "output_type": "stream",
     "text": [
      "Epoch 1/100\n",
      "25361/25361 [==============================] - 17s 690us/step - loss: 6.2120 - acc: 0.3795\n",
      "Epoch 2/100\n",
      "25361/25361 [==============================] - 11s 415us/step - loss: 5.9567 - acc: 0.3811\n",
      "Epoch 3/100\n",
      "25361/25361 [==============================] - 11s 415us/step - loss: 5.8388 - acc: 0.3811\n",
      "Epoch 4/100\n",
      "25361/25361 [==============================] - 11s 414us/step - loss: 5.7735 - acc: 0.3811\n",
      "Epoch 5/100\n",
      "25361/25361 [==============================] - 11s 414us/step - loss: 5.7279 - acc: 0.3811\n",
      "Epoch 6/100\n",
      "25361/25361 [==============================] - 10s 413us/step - loss: 5.6960 - acc: 0.3811\n",
      "Epoch 7/100\n",
      "25361/25361 [==============================] - 11s 416us/step - loss: 5.6648 - acc: 0.3811\n",
      "Epoch 8/100\n",
      "25361/25361 [==============================] - 11s 414us/step - loss: 5.6360 - acc: 0.3811\n",
      "Epoch 9/100\n",
      "25361/25361 [==============================] - 10s 414us/step - loss: 5.6156 - acc: 0.3811\n",
      "Epoch 10/100\n",
      "25361/25361 [==============================] - 11s 414us/step - loss: 5.5747 - acc: 0.3811\n",
      "Epoch 11/100\n",
      "25361/25361 [==============================] - 11s 422us/step - loss: 5.5241 - acc: 0.3811\n",
      "Epoch 12/100\n",
      "25361/25361 [==============================] - 11s 416us/step - loss: 5.4743 - acc: 0.3811\n",
      "Epoch 13/100\n",
      "25361/25361 [==============================] - 11s 414us/step - loss: 5.4091 - acc: 0.3811\n",
      "Epoch 14/100\n",
      "25361/25361 [==============================] - 11s 414us/step - loss: 5.3479 - acc: 0.3810\n",
      "Epoch 15/100\n",
      "25361/25361 [==============================] - 10s 414us/step - loss: 5.2744 - acc: 0.3811\n",
      "Epoch 16/100\n",
      "25361/25361 [==============================] - 10s 414us/step - loss: 5.1776 - acc: 0.3810\n",
      "Epoch 17/100\n",
      "25361/25361 [==============================] - 10s 413us/step - loss: 5.0891 - acc: 0.3811\n",
      "Epoch 18/100\n",
      "25361/25361 [==============================] - 10s 414us/step - loss: 4.9918 - acc: 0.3810\n",
      "Epoch 19/100\n",
      "25361/25361 [==============================] - 10s 414us/step - loss: 4.8490 - acc: 0.3812\n",
      "Epoch 20/100\n",
      "25361/25361 [==============================] - 11s 417us/step - loss: 4.7183 - acc: 0.3815\n",
      "Epoch 21/100\n",
      "25361/25361 [==============================] - 11s 416us/step - loss: 4.5566 - acc: 0.3823\n",
      "Epoch 22/100\n",
      "25361/25361 [==============================] - 11s 415us/step - loss: 4.3741 - acc: 0.3841\n",
      "Epoch 23/100\n",
      "25361/25361 [==============================] - 11s 415us/step - loss: 4.1620 - acc: 0.3876\n",
      "Epoch 24/100\n",
      "25361/25361 [==============================] - 10s 414us/step - loss: 3.9357 - acc: 0.3960\n",
      "Epoch 25/100\n",
      "25361/25361 [==============================] - 11s 414us/step - loss: 3.7051 - acc: 0.4051\n",
      "Epoch 26/100\n",
      "25361/25361 [==============================] - 10s 414us/step - loss: 3.4669 - acc: 0.4206\n",
      "Epoch 27/100\n",
      "25361/25361 [==============================] - 10s 414us/step - loss: 3.2425 - acc: 0.4352\n",
      "Epoch 28/100\n",
      "25361/25361 [==============================] - 10s 414us/step - loss: 3.0079 - acc: 0.4545\n",
      "Epoch 29/100\n",
      "25361/25361 [==============================] - 10s 413us/step - loss: 2.7940 - acc: 0.4748\n",
      "Epoch 30/100\n",
      "25361/25361 [==============================] - 11s 415us/step - loss: 2.6261 - acc: 0.4958\n",
      "Epoch 31/100\n",
      "25361/25361 [==============================] - 10s 413us/step - loss: 2.4267 - acc: 0.5148\n",
      "Epoch 32/100\n",
      "25361/25361 [==============================] - 10s 413us/step - loss: 2.2493 - acc: 0.5393\n",
      "Epoch 33/100\n",
      "25361/25361 [==============================] - 11s 414us/step - loss: 2.1183 - acc: 0.5576\n",
      "Epoch 34/100\n",
      "25361/25361 [==============================] - 11s 416us/step - loss: 1.9894 - acc: 0.5767\n",
      "Epoch 35/100\n",
      "25361/25361 [==============================] - 11s 415us/step - loss: 1.8489 - acc: 0.5939\n",
      "Epoch 36/100\n",
      "25361/25361 [==============================] - 11s 415us/step - loss: 1.7643 - acc: 0.6092\n",
      "Epoch 37/100\n",
      "25361/25361 [==============================] - 11s 415us/step - loss: 1.6438 - acc: 0.6288\n",
      "Epoch 38/100\n",
      "25361/25361 [==============================] - 11s 414us/step - loss: 1.5438 - acc: 0.6435\n",
      "Epoch 39/100\n",
      "25361/25361 [==============================] - 11s 414us/step - loss: 1.4462 - acc: 0.6658\n",
      "Epoch 40/100\n",
      "25361/25361 [==============================] - 11s 424us/step - loss: 1.3991 - acc: 0.6740\n",
      "Epoch 41/100\n",
      "25361/25361 [==============================] - 10s 413us/step - loss: 1.3014 - acc: 0.6902\n",
      "Epoch 42/100\n",
      "25361/25361 [==============================] - 10s 414us/step - loss: 1.2492 - acc: 0.7020\n",
      "Epoch 43/100\n",
      "25361/25361 [==============================] - 10s 414us/step - loss: 1.2001 - acc: 0.7119\n",
      "Epoch 44/100\n",
      "25361/25361 [==============================] - 10s 413us/step - loss: 1.1432 - acc: 0.7266\n",
      "Epoch 45/100\n",
      "25361/25361 [==============================] - 11s 415us/step - loss: 1.0909 - acc: 0.7351\n",
      "Epoch 46/100\n",
      "22900/25361 [==========================>...] - ETA: 1s - loss: 1.0415 - acc: 0.7445"
     ]
    }
   ],
   "source": [
    "history = model.fit(X, y, epochs=100, batch_size=100, verbose=1)\n",
    "gc.collect()"
   ]
  },
  {
   "cell_type": "code",
   "execution_count": 12,
   "metadata": {
    "_uuid": "7bca48a1d0963cbf70685b75431435cef9499895"
   },
   "outputs": [
    {
     "data": {
      "image/png": "[encoded data removed]",
      "text/plain": [
       "<Figure size 432x288 with 1 Axes>"
      ]
     },
     "metadata": {
      "needs_background": "light"
     },
     "output_type": "display_data"
    }
   ],
   "source": [
    "plt.plot(history.history['acc'])\n",
    "plt.title('Model accuracy')\n",
    "plt.ylabel('Accuracy')\n",
    "plt.xlabel('Epoch')\n",
    "plt.show()"
   ]
  },
  {
   "cell_type": "code",
   "execution_count": 13,
   "metadata": {
    "_uuid": "debe961c93b72bef151d9aad3ca2cb500ee00aaa"
   },
   "outputs": [
    {
     "name": "stdout",
     "output_type": "stream",
     "text": [
      "7960\n"
     ]
    }
   ],
   "source": [
    "test = os.listdir(\"../input/test/\")\n",
    "print(len(test))"
   ]
  },
  {
   "cell_type": "code",
   "execution_count": 14,
   "metadata": {
    "_uuid": "72ed8198f519f7b1ae3efbc688933c78d8cdd0e4"
   },
   "outputs": [],
   "source": [
    "col = ['Image']\n",
    "test_df = pd.DataFrame(test, columns=col)\n",
    "test_df['Id'] = ''"
   ]
  },
  {
   "cell_type": "code",
   "execution_count": 15,
   "metadata": {
    "_uuid": "52262195fc0b8755cff78bf8c98e6116d50f79af"
   },
   "outputs": [
    {
     "name": "stdout",
     "output_type": "stream",
     "text": [
      "Preparing images\n",
      "Processing image:  1 ,  a8d699496.jpg\n",
      "Processing image:  501 ,  404b52ee2.jpg\n",
      "Processing image:  1001 ,  579a73502.jpg\n",
      "Processing image:  1501 ,  9ecf3864e.jpg\n",
      "Processing image:  2001 ,  d27634ad5.jpg\n",
      "Processing image:  2501 ,  9d91ee409.jpg\n",
      "Processing image:  3001 ,  c42ce68fe.jpg\n",
      "Processing image:  3501 ,  5939b97bb.jpg\n",
      "Processing image:  4001 ,  df5baee3a.jpg\n",
      "Processing image:  4501 ,  51e30cc38.jpg\n",
      "Processing image:  5001 ,  2426118d7.jpg\n",
      "Processing image:  5501 ,  cc47b0982.jpg\n",
      "Processing image:  6001 ,  93589894e.jpg\n",
      "Processing image:  6501 ,  6a1d97b70.jpg\n",
      "Processing image:  7001 ,  c71a1ec7a.jpg\n",
      "Processing image:  7501 ,  75ec832d0.jpg\n"
     ]
    }
   ],
   "source": [
    "X = prepareImages(test_df, test_df.shape[0], \"test\")\n",
    "X /= 255"
   ]
  },
  {
   "cell_type": "code",
   "execution_count": 16,
   "metadata": {
    "_uuid": "88c8d8ff98fbdb1df4218abb6bd51889e855a6fb"
   },
   "outputs": [
    {
     "name": "stdout",
     "output_type": "stream",
     "text": [
      "7960/7960 [==============================] - 2s 264us/step\n"
     ]
    }
   ],
   "source": [
    "predictions = model.predict(np.array(X), verbose=1)"
   ]
  },
  {
   "cell_type": "code",
   "execution_count": 17,
   "metadata": {
    "_uuid": "66f0bdde31b8c7847916268aa82d9a1bdc9c0658"
   },
   "outputs": [],
   "source": [
    "for i, pred in enumerate(predictions):\n",
    "    test_df.loc[i, 'Id'] = ' '.join(label_encoder.inverse_transform(pred.argsort()[-5:][::-1]))"
   ]
  },
  {
   "cell_type": "code",
   "execution_count": 18,
   "metadata": {
    "_uuid": "09d7c1eb9b554e4e580b0c3c7eb609c15636892d"
   },
   "outputs": [],
   "source": [
    "test_df.head(10)\n",
    "test_df.to_csv('submission.csv', index=False)"
   ]
  },
  {
   "cell_type": "code",
   "execution_count": 19,
   "metadata": {},
   "outputs": [
    {
     "name": "stdout",
     "output_type": "stream",
     "text": [
      "              Image                                                 Id\n",
      "0     a8d699496.jpg  new_whale w_5a2634c w_dee1053 w_0a155b9 w_23a388d\n",
      "1     1e75d9abc.jpg  new_whale w_88e4537 w_a9304b9 w_a113b33 w_fccccec\n",
      "2     f0335d0de.jpg  new_whale w_88e4537 w_0369a5c w_714f89f w_f61b957\n",
      "3     2cb21412f.jpg  new_whale w_564a34b w_cc1784d w_8c25681 w_990921b\n",
      "4     1d6701d80.jpg  new_whale w_242fb46 w_1ca9ab1 w_23a388d w_ec16cc4\n",
      "5     879370ff2.jpg  new_whale w_cc1784d w_c6b4d61 w_af367c3 w_778e474\n",
      "6     aeb3a9793.jpg  new_whale w_88e4537 w_23a388d w_fd3e556 w_9b5109b\n",
      "7     555c26a3f.jpg  new_whale w_a9304b9 w_16df050 w_4690940 w_3de579a\n",
      "8     84092b852.jpg  new_whale w_a9304b9 w_d236b51 w_9b5109b w_343f088\n",
      "9     c85b4651a.jpg  new_whale w_c55c51d w_6cda039 w_23a388d w_60ce6fc\n",
      "10    b03f53642.jpg  new_whale w_34ecf36 w_36bbd71 w_28c330c w_88e4537\n",
      "11    b91284206.jpg  new_whale w_3de579a w_343f088 w_a113b33 w_9e3859e\n",
      "12    b9809a2ad.jpg  new_whale w_5773c71 w_fd6a3ad w_23a388d w_d573a68\n",
      "13    854b1ebef.jpg  new_whale w_659bdb8 w_59052ad w_a8b34a0 w_26c0ffd\n",
      "14    7e7b9294f.jpg  new_whale w_8c25681 w_6cda039 w_564a34b w_fd3e556\n",
      "15    40942f975.jpg  new_whale w_3de579a w_2f67f0a w_51e7506 w_ba9804a\n",
      "16    1b0b0559d.jpg  new_whale w_c8bbb43 w_5a2634c w_343f088 w_9db1fb1\n",
      "17    1f67bc08f.jpg  new_whale w_d72771c w_343f088 w_9a1a810 w_bc285a6\n",
      "18    7295048ff.jpg  new_whale w_5597026 w_0369a5c w_88e4537 w_242fb46\n",
      "19    6e21dba65.jpg  new_whale w_564a34b w_59052ad w_f765256 w_9c506f6\n",
      "20    eb48c38b4.jpg  new_whale w_23a388d w_0a155b9 w_dee1053 w_fd6a3ad\n",
      "21    53c22ab69.jpg  new_whale w_3de579a w_51fc1fc w_f0fe284 w_69c06ad\n",
      "22    1e224fdc3.jpg  new_whale w_cd4cb49 w_9438119 w_1f0cf0a w_c073f96\n",
      "23    d54d38cd7.jpg  new_whale w_5a2634c w_0369a5c w_700ebb4 w_778e474\n",
      "24    61d8cd03e.jpg  new_whale w_3de579a w_d066c0a w_a190a88 w_e64cf9a\n",
      "25    27210cae2.jpg  new_whale w_343f088 w_3de579a w_0f8b8e2 w_23a388d\n",
      "26    6a359040c.jpg  new_whale w_da011a1 w_f765256 w_b9e5911 w_778e474\n",
      "27    7419950f3.jpg  new_whale w_0369a5c w_a9304b9 w_91cc02c w_778e474\n",
      "28    0cbfdf671.jpg  new_whale w_8da30ad w_778e474 w_a9304b9 w_dee1053\n",
      "29    b59ff7073.jpg  new_whale w_3de579a w_76a45de w_4a12050 w_700ebb4\n",
      "...             ...                                                ...\n",
      "7930  19b5e6247.jpg  new_whale w_564a34b w_b02ac52 w_60cf87c w_edce644\n",
      "7931  10c2ad09e.jpg  new_whale w_5f5f9ae w_3fe5d56 w_51e7506 w_02aa597\n",
      "7932  fd283c509.jpg  new_whale w_23a388d w_55b77ce w_f61b957 w_3eae264\n",
      "7933  cc1e0f7e5.jpg  new_whale w_778e474 w_f3a12bc w_5e8e218 w_2ed0d2f\n",
      "7934  64fbf040a.jpg  new_whale w_53215c6 w_40a8585 w_4c07458 w_c073f96\n",
      "7935  54fdf6495.jpg  new_whale w_08630fd w_84f9ab0 w_e27bbf6 w_9c506f6\n",
      "7936  3a64341ef.jpg  new_whale w_23a388d w_88e4537 w_c63c580 w_030e2cf\n",
      "7937  11a4f47b7.jpg  new_whale w_343f088 w_17b0d3a w_f0fe284 w_bfe77d0\n",
      "7938  e2735347b.jpg  new_whale w_778e474 w_242fb46 w_d72771c w_0369a5c\n",
      "7939  6c40e9463.jpg  new_whale w_fd3e556 w_88e4537 w_3815890 w_3b03149\n",
      "7940  92f7d17e8.jpg  new_whale w_9c506f6 w_fd3e556 w_60cf87c w_ab7c369\n",
      "7941  8ab31a146.jpg  new_whale w_5a2634c w_1ca9ab1 w_d405854 w_b9e5911\n",
      "7942  62e80b2c7.jpg  new_whale w_88e4537 w_700ebb4 w_343f088 w_23a388d\n",
      "7943  e43116b71.jpg  new_whale w_9c506f6 w_fd3e556 w_af367c3 w_59052ad\n",
      "7944  bd18bc906.jpg  new_whale w_778e474 w_ec16cc4 w_4801beb w_343f088\n",
      "7945  50b7531f2.jpg  new_whale w_0bc078c w_28c330c w_3584852 w_b5e6c80\n",
      "7946  46434c78b.jpg  new_whale w_5597026 w_5a2634c w_2365d55 w_83a4279\n",
      "7947  bc6259f19.jpg  new_whale w_5a2634c w_32838db w_025911c w_04003e9\n",
      "7948  1b8c471b3.jpg  new_whale w_c0d11da w_fd3e556 w_5a2634c w_8c25681\n",
      "7949  4298f0c46.jpg  new_whale w_9b5109b w_0bc078c w_789c969 w_23a388d\n",
      "7950  817e935f9.jpg  new_whale w_67a9841 w_f0fe284 w_9da1811 w_0369a5c\n",
      "7951  c27702280.jpg  new_whale w_d405854 w_2745292 w_e2a09d4 w_1b0db58\n",
      "7952  2d2cbd31a.jpg  new_whale w_da40b39 w_16df050 w_4a12050 w_0d1b964\n",
      "7953  e778e6301.jpg  new_whale w_bfe77d0 w_23a388d w_88e4537 w_bff3c3b\n",
      "7954  28c5345c5.jpg  new_whale w_700ebb4 w_343f088 w_90c9763 w_75f6ffa\n",
      "7955  80035b4ea.jpg  new_whale w_51fc1fc w_8da30ad w_700ebb4 w_343f088\n",
      "7956  03bbcaaf8.jpg  new_whale w_6dbfd7a w_564a34b w_293431f w_08630fd\n",
      "7957  87f92050d.jpg  new_whale w_5c51475 w_778e474 w_df5bf3d w_dd88965\n",
      "7958  404d56197.jpg  new_whale w_0369a5c w_51fc1fc w_a9304b9 w_f0fe284\n",
      "7959  ab74535ee.jpg  new_whale w_2b069ba w_4516ff1 w_5e8e218 w_04003e9\n",
      "\n",
      "[7960 rows x 2 columns]\n"
     ]
    }
   ],
   "source": [
    "print(test_df)"
   ]
  },
  {
   "cell_type": "code",
   "execution_count": null,
   "metadata": {},
   "outputs": [],
   "source": []
  }
 ],
 "metadata": {
  "kernelspec": {
   "display_name": "Python 3",
   "language": "python",
   "name": "python3"
  },
  "language_info": {
   "codemirror_mode": {
    "name": "ipython",
    "version": 3
   },
   "file_extension": ".py",
   "mimetype": "text/x-python",
   "name": "python",
   "nbconvert_exporter": "python",
   "pygments_lexer": "ipython3",
   "version": "3.6.6"
  }
 },
 "nbformat": 4,
 "nbformat_minor": 1
}
